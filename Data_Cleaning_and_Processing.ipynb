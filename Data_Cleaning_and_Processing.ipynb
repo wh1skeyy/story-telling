{
 "cells": [
  {
   "cell_type": "code",
   "execution_count": null,
   "id": "038f30f8",
   "metadata": {},
   "outputs": [],
   "source": [
    "import pandas as pd\n",
    "data = 'kaggle_survey_2020_responses.csv'\n",
    "data = pd.read_csv(data)\n",
    "data.head()\n",
    "# Remove row 0\n",
    "data = data.iloc[1:]\n"
   ]
  },
  {
   "cell_type": "code",
   "execution_count": null,
   "id": "825b0778",
   "metadata": {},
   "outputs": [],
   "source": [
    "pd.set_option('display.max_rows', None)\n",
    "na_counts = data.isna().sum()\n",
    "print(na_counts)"
   ]
  },
  {
   "cell_type": "code",
   "execution_count": null,
   "id": "88372697",
   "metadata": {},
   "outputs": [],
   "source": [
    "# Check for NAs in columns 'Q1' to 'Q6'\n",
    "na_check = data[['Q1', 'Q2', 'Q3', 'Q4', 'Q5', 'Q6']].isna().sum()\n",
    "print(na_check)\n",
    "# Remove rows with NAs in Q4, Q5, and Q6\n",
    "data = data.dropna(subset=['Q4'])\n",
    "data = data.dropna(subset=['Q5'])\n",
    "data = data.dropna(subset=['Q6'])\n",
    "# Display the updated dataframe\n",
    "data.head()"
   ]
  },
  {
   "cell_type": "markdown",
   "id": "d3145892",
   "metadata": {},
   "source": [
    "---Import functions---"
   ]
  },
  {
   "cell_type": "code",
   "execution_count": null,
   "id": "b01826d5",
   "metadata": {},
   "outputs": [],
   "source": [
    "from processing_function import *"
   ]
  },
  {
   "cell_type": "code",
   "execution_count": null,
   "id": "eafe3187",
   "metadata": {},
   "outputs": [],
   "source": [
    "# Example usage of the functions\n",
    "df = pd.DataFrame(data)\n",
    "# Specify columns to process\n",
    "column_names = ['Q7_Part_1', 'Q7_Part_2', 'Q7_Part_3', 'Q7_Part_4', 'Q7_Part_5', 'Q7_Part_6', 'Q7_Part_7', 'Q7_Part_8', 'Q7_Part_9', 'Q7_Part_10', 'Q7_Part_11', 'Q7_Part_12', 'Q7_OTHER']\n",
    "# Apply the pscti function\n",
    "data = pscti(df, column_names)\n",
    "# Print the updated dataframe\n",
    "data.head(20)"
   ]
  },
  {
   "cell_type": "code",
   "execution_count": null,
   "id": "ce2ac85b",
   "metadata": {},
   "outputs": [],
   "source": []
  }
 ],
 "metadata": {
  "kernelspec": {
   "display_name": "Python 3",
   "language": "python",
   "name": "python3"
  },
  "language_info": {
   "codemirror_mode": {
    "name": "ipython",
    "version": 3
   },
   "file_extension": ".py",
   "mimetype": "text/x-python",
   "name": "python",
   "nbconvert_exporter": "python",
   "pygments_lexer": "ipython3",
   "version": "3.12.1"
  }
 },
 "nbformat": 4,
 "nbformat_minor": 5
}
