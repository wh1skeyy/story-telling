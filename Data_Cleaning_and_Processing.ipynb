{
 "cells": [
  {
   "cell_type": "code",
   "execution_count": null,
   "id": "038f30f8",
   "metadata": {},
   "outputs": [],
   "source": [
    "import pandas as pd\n",
    "data = 'kaggle_survey_2020_responses.csv'\n",
    "data = pd.read_csv(data)\n",
    "data.head()\n",
    "# Remove row 0\n",
    "data = data.iloc[1:]"
   ]
  },
  {
   "cell_type": "code",
   "execution_count": null,
   "id": "825b0778",
   "metadata": {},
   "outputs": [],
   "source": [
    "pd.set_option('display.max_rows', None)\n",
    "na_counts = data.isna().sum()\n",
    "print(na_counts)"
   ]
  },
  {
   "cell_type": "code",
   "execution_count": null,
   "id": "88372697",
   "metadata": {},
   "outputs": [],
   "source": [
    "# Check for NAs in columns 'Q1' to 'Q6'\n",
    "na_check = data[['Q1', 'Q2', 'Q3', 'Q4', 'Q5', 'Q6']].isna().sum()\n",
    "print(na_check)\n",
    "# Remove rows with NAs in Q4, Q5, and Q6\n",
    "data = data.dropna(subset=['Q4'])\n",
    "data = data.dropna(subset=['Q5'])\n",
    "data = data.dropna(subset=['Q6'])\n",
    "# Display the updated dataframe\n",
    "data.head()"
   ]
  },
  {
   "cell_type": "markdown",
   "id": "d3145892",
   "metadata": {},
   "source": [
    "---Import functions---"
   ]
  },
  {
   "cell_type": "code",
   "execution_count": null,
   "id": "b01826d5",
   "metadata": {},
   "outputs": [],
   "source": [
    "from processing_function import *\n",
    "df = pd.DataFrame(data)"
   ]
  },
  {
   "cell_type": "code",
   "execution_count": null,
   "id": "0a4ee391",
   "metadata": {},
   "outputs": [],
   "source": [
    "# Ensure columns with underscores are renamed using the rename_col function\n",
    "Q7_columns = gcbp(df, \"Q7_\")\n",
    "df = rename_col(df, Q7_columns, \"Q7_\")\n",
    "\n",
    "Q9_columns = gcbp(df, \"Q9_\")\n",
    "df = rename_col(df, Q9_columns, \"Q9_\")\n",
    "\n",
    "Q10_columns = gcbp(df, \"Q10_\")\n",
    "df = rename_col(df, Q10_columns, \"Q10_\")\n",
    "\n",
    "Q12_columns = gcbp(df, \"Q12_\")\n",
    "df = rename_col(df, Q12_columns, \"Q12_\")\n",
    "\n",
    "Q14_columns = gcbp(df, \"Q14_\")\n",
    "df = rename_col(df, Q14_columns, \"Q14_\")\n",
    "\n",
    "Q16_columns = gcbp(df, \"Q16_\")\n",
    "df = rename_col(df, Q16_columns, \"Q16_\")\n",
    "\n",
    "Q17_columns = gcbp(df, \"Q17_\")\n",
    "df = rename_col(df, Q17_columns, \"Q17_\")\n",
    "\n",
    "Q18_columns = gcbp(df, \"Q18_\")\n",
    "df = rename_col(df, Q18_columns, \"Q18_\")\n",
    "\n",
    "Q19_columns = gcbp(df, \"Q19_\")\n",
    "df = rename_col(df, Q19_columns, \"Q19_\")\n",
    "\n",
    "Q23_columns = gcbp(df, \"Q23_\")\n",
    "df = rename_col(df, Q23_columns, \"Q23_\")\n",
    "\n",
    "Q26_A_columns = gcbp(df, \"Q26_A_\")\n",
    "df = rename_col(df, Q26_A_columns, \"Q26_A_\")\n",
    "\n",
    "Q27_A_columns = gcbp(df, \"Q27_A_\")\n",
    "df = rename_col(df, Q27_A_columns, \"Q27_A_\")\n",
    "\n",
    "Q28_A_columns = gcbp(df, \"Q28_A_\")\n",
    "df = rename_col(df, Q28_A_columns, \"Q28_A_\")\n",
    "\n",
    "Q29_A_columns = gcbp(df, \"Q29_A_\")\n",
    "df = rename_col(df, Q29_A_columns, \"Q29_A_\")\n",
    "\n",
    "Q31_A_columns = gcbp(df, \"Q31_A_\")\n",
    "df = rename_col(df, Q31_A_columns, \"Q31_A_\")\n",
    "\n",
    "Q33_A_columns = gcbp(df, \"Q33_A_\")\n",
    "df = rename_col(df, Q33_A_columns, \"Q33_A_\")\n",
    "\n",
    "Q34_A_columns = gcbp(df, \"Q34_A_\")\n",
    "df = rename_col(df, Q34_A_columns, \"Q34_A_\")\n",
    "\n",
    "Q35_A_columns = gcbp(df, \"Q35_A_\")\n",
    "df = rename_col(df, Q35_A_columns, \"Q35_A_\")\n",
    "\n",
    "Q36_columns = gcbp(df, \"Q36_\")\n",
    "df = rename_col(df, Q36_columns, \"Q36_\")\n",
    "\n",
    "Q37_columns = gcbp(df, \"Q37_\")\n",
    "df = rename_col(df, Q37_columns, \"Q37_\")\n",
    "\n",
    "Q39_columns = gcbp(df, \"Q39_\")\n",
    "df = rename_col(df, Q39_columns, \"Q39_\")\n",
    "\n",
    "Q26_B_columns = gcbp(df, \"Q26_B_\")\n",
    "df = rename_col(df, Q26_B_columns, \"Q26_B_\")\n",
    "\n",
    "Q27_B_columns = gcbp(df, \"Q27_B_\")\n",
    "df = rename_col(df, Q27_B_columns, \"Q27_B_\")\n",
    "\n",
    "Q28_B_columns = gcbp(df, \"Q28_B_\")\n",
    "df = rename_col(df, Q28_B_columns, \"Q28_B_\")\n",
    "\n",
    "Q29_B_columns = gcbp(df, \"Q29_B_\")\n",
    "df = rename_col(df, Q29_B_columns, \"Q29_B_\")\n",
    "\n",
    "Q31_B_columns = gcbp(df, \"Q31_B_\")\n",
    "df = rename_col(df, Q31_B_columns, \"Q31_B_\")\n",
    "\n",
    "Q33_B_columns = gcbp(df, \"Q33_B_\")\n",
    "df = rename_col(df, Q33_B_columns, \"Q33_B_\")\n",
    "\n",
    "Q34_B_columns = gcbp(df, \"Q34_B_\")\n",
    "df = rename_col(df, Q34_B_columns, \"Q34_B_\")\n",
    "\n",
    "Q35_B_columns = gcbp(df, \"Q35_B_\")\n",
    "df = rename_col(df, Q35_B_columns, \"Q35_B_\")\n"
   ]
  },
  {
   "cell_type": "code",
   "execution_count": null,
   "id": "0c1577f2",
   "metadata": {},
   "outputs": [],
   "source": [
    "fhelp(\"gcbp\")"
   ]
  },
  {
   "cell_type": "code",
   "execution_count": null,
   "id": "8a8e1d9f",
   "metadata": {},
   "outputs": [],
   "source": [
    "questions = [\n",
    "    \"Q7\", \"Q9\", \"Q10\", \"Q12\", \"Q14\", \"Q16\", \"Q17\", \"Q18\", \"Q19\", \"Q23\", \n",
    "    \"Q26_A\", \"Q27_A\", \"Q28_A\", \"Q29_A\", \"Q31_A\", \"Q33_A\", \"Q34_A\", \"Q35_A\", \n",
    "    \"Q36\", \"Q37\", \"Q39\", \"Q26_B\", \"Q27_B\", \"Q28_B\", \"Q29_B\", \"Q31_B\", \n",
    "    \"Q33_B\", \"Q34_B\", \"Q35_B\"\n",
    "]\n",
    "\n",
    "for question in questions:\n",
    "    column_names = gcbp(df, question)\n",
    "    data = col_format(df, column_names)\n",
    "\n",
    "data.head(20)"
   ]
  },
  {
   "cell_type": "code",
   "execution_count": null,
   "id": "639bb89d",
   "metadata": {},
   "outputs": [],
   "source": [
    "na_counts_all = df.isna().sum()\n",
    "print(na_counts_all)"
   ]
  },
  {
   "cell_type": "code",
   "execution_count": null,
   "id": "47ce8f6a",
   "metadata": {},
   "outputs": [],
   "source": [
    "replace_na(data, 'Q8', 'None')\n",
    "print(data['Q8'].unique())"
   ]
  },
  {
   "cell_type": "code",
   "execution_count": null,
   "id": "a2bbf7e1",
   "metadata": {},
   "outputs": [],
   "source": [
    "replace_na(data, 'Q24', 'Unknown')\n",
    "print(data['Q24'].unique())"
   ]
  },
  {
   "cell_type": "code",
   "execution_count": null,
   "id": "e8b37a3a",
   "metadata": {},
   "outputs": [],
   "source": [
    "replace_na(data, 'Q25', 'Unknown')\n",
    "print(data['Q25'].unique())"
   ]
  },
  {
   "cell_type": "code",
   "execution_count": null,
   "id": "f4c1f66f",
   "metadata": {},
   "outputs": [],
   "source": [
    "replace_na(data, 'Q11', 'Other')\n",
    "print(data['Q11'].unique())"
   ]
  },
  {
   "cell_type": "code",
   "execution_count": null,
   "id": "b086548f",
   "metadata": {},
   "outputs": [],
   "source": [
    "replace_na(data, 'Q13', 'Never')\n",
    "print(data['Q13'].unique())"
   ]
  },
  {
   "cell_type": "code",
   "execution_count": null,
   "id": "f798fe73",
   "metadata": {},
   "outputs": [],
   "source": [
    "replace_na(data, 'Q15', 'I do not use machine learning methods')\n",
    "print(data['Q15'].unique())"
   ]
  },
  {
   "cell_type": "code",
   "execution_count": null,
   "id": "72c87aa1",
   "metadata": {},
   "outputs": [],
   "source": [
    "replace_na(data, 'Q38', 'I do not use machine learning methods')\n",
    "print(data['Q38'].unique())"
   ]
  },
  {
   "cell_type": "code",
   "execution_count": null,
   "id": "9641e6d3",
   "metadata": {},
   "outputs": [],
   "source": [
    "replace_na(data, 'Q20', '0-49 employees')\n",
    "print(data['Q20'].unique())"
   ]
  },
  {
   "cell_type": "code",
   "execution_count": null,
   "id": "007a8f61",
   "metadata": {},
   "outputs": [],
   "source": [
    "replace_na(data, 'Q21', 0)\n",
    "print(data['Q21'].unique())"
   ]
  },
  {
   "cell_type": "code",
   "execution_count": null,
   "id": "d262d0ac",
   "metadata": {},
   "outputs": [],
   "source": [
    "replace_na(data, 'Q22', 'I do not know')\n",
    "print(data['Q22'].unique())"
   ]
  },
  {
   "cell_type": "code",
   "execution_count": null,
   "id": "b336c9ae",
   "metadata": {},
   "outputs": [],
   "source": [
    "for column in ['Q30', 'Q32']:\n",
    "\treplace_na(data, column, 'Not questioned')\n",
    "print(data['Q30'].unique())\n",
    "print(data['Q32'].unique())"
   ]
  },
  {
   "cell_type": "code",
   "execution_count": null,
   "id": "bd391c03",
   "metadata": {},
   "outputs": [],
   "source": [
    "na_counts_all = df.isna().sum()\n",
    "print(na_counts_all)"
   ]
  },
  {
   "cell_type": "code",
   "execution_count": null,
   "id": "43ce8ef1",
   "metadata": {},
   "outputs": [],
   "source": [
    "add_sum_col(df, gcbp(df, \"Q7\"),'Q7Total')\n",
    "add_sum_col(df, gcbp(df, \"Q9\"), 'Q9Total')\n",
    "add_sum_col(df, gcbp(df, \"Q10\"), 'Q10Total')\n",
    "add_sum_col(df, gcbp(df, \"Q12\"), 'Q12Total')\n",
    "add_sum_col(df, gcbp(df, \"Q14\"), 'Q14Total')\n",
    "add_sum_col(df, gcbp(df, \"Q16\"), 'Q16Total')\n",
    "add_sum_col(df, gcbp(df, \"Q17\"), 'Q17Total')\n",
    "add_sum_col(df, gcbp(df, \"Q18\"), 'Q18Total')\n",
    "add_sum_col(df, gcbp(df, \"Q19\"), 'Q19Total')\n",
    "add_sum_col(df, gcbp(df, \"Q23\"), 'Q23Total')\n",
    "add_sum_col(df, gcbp(df, \"Q26_A\"), 'Q26_ATotal')\n",
    "add_sum_col(df, gcbp(df, \"Q27_A\"), 'Q27_ATotal')\n",
    "add_sum_col(df, gcbp(df, \"Q28_A\"), 'Q28_ATotal')\n",
    "add_sum_col(df, gcbp(df, \"Q29_A\"), 'Q29_ATotal')\n",
    "add_sum_col(df, gcbp(df, \"Q31_A\"), 'Q31_ATotal')\n",
    "add_sum_col(df, gcbp(df, \"Q33_A\"), 'Q33_ATotal')\n",
    "add_sum_col(df, gcbp(df, \"Q34_A\"), 'Q34_ATotal')\n",
    "add_sum_col(df, gcbp(df, \"Q35_A\"), 'Q35_ATotal')\n",
    "add_sum_col(df, gcbp(df, \"Q36\"), 'Q36Total')\n",
    "add_sum_col(df, gcbp(df, \"Q37\"), 'Q37Total')\n",
    "add_sum_col(df, gcbp(df, \"Q39\"), 'Q39Total')\n",
    "add_sum_col(df, gcbp(df, \"Q26_B\"), 'Q26_BTotal')\n",
    "add_sum_col(df, gcbp(df, \"Q27_B\"), 'Q27_BTotal')\n",
    "add_sum_col(df, gcbp(df, \"Q28_B\"), 'Q28_BTotal')\n",
    "add_sum_col(df, gcbp(df, \"Q29_B\"), 'Q29_BTotal')\n",
    "add_sum_col(df, gcbp(df, \"Q31_B\"), 'Q31_BTotal')\n",
    "add_sum_col(df, gcbp(df, \"Q33_B\"), 'Q33_BTotal')\n",
    "add_sum_col(df, gcbp(df, \"Q34_B\"), 'Q34_BTotal')\n",
    "add_sum_col(df, gcbp(df, \"Q35_B\"), 'Q35_BTotal')"
   ]
  },
  {
   "cell_type": "code",
   "execution_count": null,
   "id": "e759efaa",
   "metadata": {},
   "outputs": [],
   "source": [
    "df.loc[df['Q29_ATotal'] <= 1, 'Q30'] = 'Not Questioned'\n",
    "df.loc[df['Q31_ATotal'] <= 1, 'Q32'] = 'Not Questioned'"
   ]
  },
  {
   "cell_type": "code",
   "execution_count": null,
   "id": "336d84ba",
   "metadata": {},
   "outputs": [],
   "source": [
    "data.to_csv('cleaned-data.csv', index=False)"
   ]
  }
 ],
 "metadata": {
  "kernelspec": {
   "display_name": "Python 3",
   "language": "python",
   "name": "python3"
  },
  "language_info": {
   "codemirror_mode": {
    "name": "ipython",
    "version": 3
   },
   "file_extension": ".py",
   "mimetype": "text/x-python",
   "name": "python",
   "nbconvert_exporter": "python",
   "pygments_lexer": "ipython3",
   "version": "3.12.1"
  }
 },
 "nbformat": 4,
 "nbformat_minor": 5
}
