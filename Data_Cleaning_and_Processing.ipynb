{
 "cells": [
  {
   "cell_type": "code",
   "execution_count": 1,
   "id": "038f30f8",
   "metadata": {},
   "outputs": [
    {
     "name": "stderr",
     "output_type": "stream",
     "text": [
      "/tmp/ipykernel_7033/1328981657.py:3: DtypeWarning: Columns (0,18,31,45,50,63,80,92,99,105,130,171,187,241,254,266,278,289,307,322,330,342,353) have mixed types. Specify dtype option on import or set low_memory=False.\n",
      "  data = pd.read_csv(data)\n"
     ]
    }
   ],
   "source": [
    "import pandas as pd\n",
    "data = 'kaggle_survey_2020_responses.csv'\n",
    "data = pd.read_csv(data)\n",
    "data.head()\n",
    "# Remove row 0\n",
    "data = data.iloc[1:]\n"
   ]
  },
  {
   "cell_type": "code",
   "execution_count": null,
   "id": "825b0778",
   "metadata": {},
   "outputs": [],
   "source": [
    "pd.set_option('display.max_rows', None)\n",
    "na_counts = data.isna().sum()\n",
    "print(na_counts)"
   ]
  },
  {
   "cell_type": "code",
   "execution_count": null,
   "id": "88372697",
   "metadata": {},
   "outputs": [],
   "source": [
    "# Check for NAs in columns 'Q1' to 'Q6'\n",
    "na_check = data[['Q1', 'Q2', 'Q3', 'Q4', 'Q5', 'Q6']].isna().sum()\n",
    "print(na_check)\n",
    "# Remove rows with NAs in Q4, Q5, and Q6\n",
    "data = data.dropna(subset=['Q4'])\n",
    "data = data.dropna(subset=['Q5'])\n",
    "data = data.dropna(subset=['Q6'])\n",
    "# Display the updated dataframe\n",
    "data.head()"
   ]
  },
  {
   "cell_type": "markdown",
   "id": "076fcde7",
   "metadata": {},
   "source": [
    "Function Configuration"
   ]
  },
  {
   "cell_type": "markdown",
   "id": "a0c745ca",
   "metadata": {},
   "source": []
  },
  {
   "cell_type": "code",
   "execution_count": null,
   "id": "6e13c5ae",
   "metadata": {},
   "outputs": [],
   "source": [
    "def process_selected_columns_to_int(dataframe, column_names):\n",
    "    \"\"\"\n",
    "    Processes the specified columns in the dataframe:\n",
    "    - Replaces NA values with 0.\n",
    "    - Replaces non-NA values with 1.\n",
    "    - Converts the column type to int.\n",
    "\n",
    "    Parameters:\n",
    "    dataframe (pd.DataFrame): The dataframe to process.\n",
    "    column_names (list): List of column names to process.\n",
    "\n",
    "    Returns:\n",
    "    pd.DataFrame: The updated dataframe.\n",
    "    \"\"\"\n",
    "    for column_name in column_names:\n",
    "        if column_name in dataframe.columns:\n",
    "            dataframe[column_name] = dataframe[column_name].apply(lambda x: 1 if pd.notna(x) else 0).astype(int)\n",
    "    return dataframe"
   ]
  },
  {
   "cell_type": "code",
   "execution_count": null,
   "id": "8d1af797",
   "metadata": {},
   "outputs": [],
   "source": [
    "def add_columns_sum(dataframe, columns_to_sum, new_column_name, position=None):\n",
    "    \"\"\"\n",
    "    Description - English\n",
    "    Sums the values of the specified columns for each row and adds the result as a new column.\n",
    "    Optionally inserts the new column at the specified position.\n",
    "\n",
    "    Parameters:\n",
    "    - dataframe (pd.DataFrame): The dataframe to process.\n",
    "    - columns_to_sum (list): List of column names to sum.\n",
    "    - new_column_name (str): Name of the new column to store the sum.\n",
    "    - position (int, optional): Desired position (zero-indexed) of the new column. \n",
    "      If None, the column is added at the end.\n",
    "\n",
    "    Returns:\n",
    "    - pd.DataFrame: Updated dataframe with the new column.\n",
    "    \"\"\"\n",
    "\n",
    "    \"\"\"\n",
    "    Mô tả - Tiếng Việt\n",
    "    Cộng tổng giá trị của các cột được chỉ định cho từng hàng và thêm kết quả vào một cột mới. \n",
    "    Tùy chọn chèn cột mới vào vị trí được chỉ định.\n",
    "\n",
    "    Tham số:\n",
    "    - dataframe (pd.DataFrame): DataFrame cần xử lý.\n",
    "    - columns_to_sum (list): Danh sách tên các cột cần cộng tổng.\n",
    "    - new_column_name (str): Tên của cột mới để lưu trữ tổng giá trị.\n",
    "    - position (int, optional): Vị trí mong muốn (theo chỉ số bắt đầu từ 0) của cột mới. \n",
    "    Nếu là None, cột sẽ được thêm vào cuối.\n",
    "\n",
    "    Trả về:\n",
    "    - pd.DataFrame: DataFrame đã được cập nhật với cột mới.\n",
    "    \"\"\"\n",
    "    dataframe[new_column_name] = dataframe[columns_to_sum].sum(axis=1)\n",
    "    if position is not None:\n",
    "        cols = list(dataframe.columns)\n",
    "        cols.remove(new_column_name)\n",
    "        cols.insert(position, new_column_name)\n",
    "        dataframe = dataframe[cols]\n",
    "    return dataframe"
   ]
  },
  {
   "cell_type": "code",
   "execution_count": null,
   "id": "b01826d5",
   "metadata": {},
   "outputs": [],
   "source": []
  }
 ],
 "metadata": {
  "kernelspec": {
   "display_name": "Python 3",
   "language": "python",
   "name": "python3"
  },
  "language_info": {
   "codemirror_mode": {
    "name": "ipython",
    "version": 3
   },
   "file_extension": ".py",
   "mimetype": "text/x-python",
   "name": "python",
   "nbconvert_exporter": "python",
   "pygments_lexer": "ipython3",
   "version": "3.12.1"
  }
 },
 "nbformat": 4,
 "nbformat_minor": 5
}
