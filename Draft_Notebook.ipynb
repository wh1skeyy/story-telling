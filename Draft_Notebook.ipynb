{
 "cells": [
  {
   "cell_type": "code",
   "execution_count": 1,
   "id": "413f8e93",
   "metadata": {},
   "outputs": [
    {
     "name": "stderr",
     "output_type": "stream",
     "text": [
      "/tmp/ipykernel_60060/3033700160.py:3: DtypeWarning: Columns (0,18,31,45,50,63,80,92,99,105,130,171,187,241,254,266,278,289,307,322,330,342,353) have mixed types. Specify dtype option on import or set low_memory=False.\n",
      "  data = pd.read_csv(data)\n"
     ]
    }
   ],
   "source": [
    "import pandas as pd\n",
    "data = 'kaggle_survey_2020_responses.csv'\n",
    "data = pd.read_csv(data)\n",
    "data.head()\n",
    "# Remove row 0\n",
    "data = data.iloc[1:]"
   ]
  },
  {
   "cell_type": "code",
   "execution_count": 2,
   "id": "5e754056",
   "metadata": {},
   "outputs": [],
   "source": [
    "from processing_function import *"
   ]
  },
  {
   "cell_type": "code",
   "execution_count": null,
   "id": "a9603d2c",
   "metadata": {},
   "outputs": [
    {
     "name": "stdout",
     "output_type": "stream",
     "text": [
      "Hướng dẫn sử dụng cho module processing_function:\n",
      "\n",
      "Lệnh: col_format(dataframe, column_names)\n",
      "- Xử lý các cột được chỉ định trong dataframe:\n",
      "    + Thay thế các giá trị NA bằng 0.\n",
      "    + Thay thế các giá trị không phải NA bằng 1.\n",
      "    + Chuyển kiểu dữ liệu của cột thành kiểu int.\n",
      "  Ví dụ:\n",
      "    df = pd.DataFrame(data)\n",
      "    column_names = ['Q7_Part1', 'Q7_Part2']\n",
      "    df = col_format(df, column_names)\n",
      "\n",
      "------------------------------------------------------------\n",
      "\n",
      "add_sum_col(dataframe, columns_to_sum, new_column_name, position=None):\n",
      "  - Cộng tổng giá trị của các cột được chỉ định cho từng hàng và thêm kết quả vào một cột mới.\n",
      "  Ví dụ:\n",
      "    df = pd.DataFrame(data)\n",
      "    df = add_sum_col(df, ['Q7_Part1', 'Q7_Part2', 'Q7_Part3'], 'Q7_Total', position=10)\n",
      "    print(df)\n",
      "------------------------------------------------------------\n",
      "\n",
      "cavo(dataframe, column_names):\n",
      "  - Đếm số lượng '1' trong các cột được chỉ định và hiển thị biểu đồ cột.\n",
      "  Ví dụ:\n",
      "    df = pd.DataFrame(data)\n",
      "    counts = cavo(df, ['Q7_Part1', 'Q7_Part2', 'Q7_Part3'])\n",
      "    print(counts)\n",
      "------------------------------------------------------------\n",
      "\n",
      "gcbp(dataframe, selected_cols, prefix):\n",
      "  - Lấy tất cả các tên cột bắt đầu bằng tiền tố được chỉ định.\n",
      "  Ví dụ:\n",
      "    df = pd.DataFrame(data)\n",
      "    cols = gcbp(df, 'Q7_Part1', 'Q7')\n",
      "    print(cols)\n",
      "------------------------------------------------------------\n",
      "\n",
      "vvc(dataframe, column_name, xlabel, ylabel, title):\n",
      "  - Hiển thị số lần xuất hiện của từng giá trị duy nhất trong cột được chỉ định bằng biểu đồ cột.\n",
      "  Ví dụ:\n",
      "    df = pd.DataFrame(data)\n",
      "    column_name = 'Q5'\n",
      "    vvc(df, column_name, 'Categories', 'Counts', 'Category Count')\n",
      "------------------------------------------------------------\n",
      "\n",
      "heatmapping(dataframe, column_x, column_y, title):\n",
      "  - Tạo một heatmap dựa trên số lượng cặp giá trị duy nhất giữa hai cột.\n",
      "  Ví dụ:\n",
      "    df = pd.DataFrame(data)\n",
      "    heatmapping(df, 'Q4', 'Q5', 'Heatmap Example')\n",
      "------------------------------------------------------------\n",
      "\n",
      "favc(dataframe, filter_column, filter_value, question_column, xlabel, ylabel, title):\n",
      "  - Lọc dataframe dựa trên điều kiện và hiển thị số lượng giá trị cho một câu hỏi cụ thể.\n",
      "  Ví dụ:\n",
      "    df = pd.DataFrame(data)\n",
      "    favc(df, 'Q7_Part1', '1', 'Q5', 'Choice', 'Count', 'Roles that use Python programming language')\n",
      "------------------------------------------------------------\n",
      "\n",
      "rename_col(dataframe, columns, prefix):\n",
      "  - Đổi tên các cột được chỉ định bằng giá trị duy nhất không null đầu tiên tìm thấy trong cột đó, kèm theo tiền tố.\n",
      "  Ví dụ:\n",
      "    df = pd.DataFrame(data)\n",
      "    columns = ['Q7_Part1', 'Q7_Part2']\n",
      "    df = rename_col(df, columns, 'Q7_')\n",
      "    print(df)\n",
      "------------------------------------------------------------\n"
     ]
    }
   ],
   "source": [
    "fhelp()"
   ]
  }
 ],
 "metadata": {
  "kernelspec": {
   "display_name": "Python 3",
   "language": "python",
   "name": "python3"
  },
  "language_info": {
   "codemirror_mode": {
    "name": "ipython",
    "version": 3
   },
   "file_extension": ".py",
   "mimetype": "text/x-python",
   "name": "python",
   "nbconvert_exporter": "python",
   "pygments_lexer": "ipython3",
   "version": "3.12.1"
  }
 },
 "nbformat": 4,
 "nbformat_minor": 5
}
